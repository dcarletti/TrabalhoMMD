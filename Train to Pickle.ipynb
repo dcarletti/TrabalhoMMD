{
 "cells": [
  {
   "cell_type": "code",
   "execution_count": 1,
   "metadata": {
    "collapsed": true
   },
   "outputs": [],
   "source": [
    "import matplotlib.pyplot as plt\n",
    "import matplotlib\n",
    "import holoviews as hv\n",
    "import pandas as pd\n",
    "import numpy as np\n",
    "import csv\n",
    "from datetime import datetime\n",
    "import os\n",
    "import pandas as pd\n",
    "import pickle"
   ]
  },
  {
   "cell_type": "code",
   "execution_count": 2,
   "metadata": {
    "collapsed": true
   },
   "outputs": [],
   "source": [
    "train=open('train.csv')\n",
    "traincsv=csv.reader(train)"
   ]
  },
  {
   "cell_type": "code",
   "execution_count": 3,
   "metadata": {},
   "outputs": [
    {
     "name": "stdout",
     "output_type": "stream",
     "text": [
      "['ip', 'app', 'device', 'os', 'channel', 'click_time', 'attributed_time', 'is_attributed']\n"
     ]
    },
    {
     "data": {
      "text/plain": [
       "['ip', 'app', 'device', 'os', 'channel', 'click_time', 'is_attributed', 'hour']"
      ]
     },
     "execution_count": 3,
     "metadata": {},
     "output_type": "execute_result"
    }
   ],
   "source": [
    "for row in traincsv:\n",
    "    primeira=row\n",
    "    print(row)\n",
    "    break\n",
    "primeira=primeira[0:6]+primeira[-1:]+['hour']\n",
    "primeira"
   ]
  },
  {
   "cell_type": "code",
   "execution_count": 4,
   "metadata": {
    "collapsed": true
   },
   "outputs": [],
   "source": [
    "flag=0\n",
    "for row in traincsv:\n",
    "    row[0]=int(row[0])\n",
    "    row[1]=int(row[1])\n",
    "    row[2]=int(row[2])\n",
    "    row[3]=int(row[3])\n",
    "    row[4]=int(row[4])\n",
    "    row[5]=datetime.strptime(row[5], '%Y-%m-%d %H:%M:%S')\n",
    "    row[7]=int(row[7])\n",
    "    row=row[0:6]+row[-1:]+[[row[5].hour]]\n",
    "\n",
    "    if flag==0:\n",
    "        lista=[[],[],[],[],[],[],[],[]]\n",
    "        hour=row[5].hour\n",
    "        day=row[5].day\n",
    "        flag=1    \n",
    "    \n",
    "    if flag==1:\n",
    "        if row[5].hour!=hour:\n",
    "            df=pd.DataFrame(dict(zip(primeira,lista)))\n",
    "            df.to_pickle('Pickle/'+str(day)+'_'+str(hour)+'.pkl')\n",
    "            flag=0\n",
    "        else:\n",
    "            for i in range(0,8):\n",
    "                lista[i].append(row[i])"
   ]
  },
  {
   "cell_type": "code",
   "execution_count": null,
   "metadata": {
    "collapsed": true
   },
   "outputs": [],
   "source": []
  }
 ],
 "metadata": {
  "kernelspec": {
   "display_name": "Python 3",
   "language": "python",
   "name": "python3"
  },
  "language_info": {
   "codemirror_mode": {
    "name": "ipython",
    "version": 3
   },
   "file_extension": ".py",
   "mimetype": "text/x-python",
   "name": "python",
   "nbconvert_exporter": "python",
   "pygments_lexer": "ipython3",
   "version": "3.6.3"
  }
 },
 "nbformat": 4,
 "nbformat_minor": 2
}
